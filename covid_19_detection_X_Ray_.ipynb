{
  "nbformat": 4,
  "nbformat_minor": 0,
  "metadata": {
    "colab": {
      "name": "covid-19-detection-X-Ray .ipynb",
      "provenance": [],
      "authorship_tag": "ABX9TyOwar1JNISN1tkUcrBagaj+",
      "include_colab_link": true
    },
    "kernelspec": {
      "name": "python3",
      "display_name": "Python 3"
    },
    "language_info": {
      "name": "python"
    }
  },
  "cells": [
    {
      "cell_type": "markdown",
      "metadata": {
        "id": "view-in-github",
        "colab_type": "text"
      },
      "source": [
        "<a href=\"https://colab.research.google.com/github/HaithemH/Coronavirus-death-rate-prediction/blob/master/covid_19_detection_X_Ray_.ipynb\" target=\"_parent\"><img src=\"https://colab.research.google.com/assets/colab-badge.svg\" alt=\"Open In Colab\"/></a>"
      ]
    },
    {
      "cell_type": "markdown",
      "metadata": {
        "id": "HAMPzs21_vh6"
      },
      "source": [
        ""
      ]
    },
    {
      "cell_type": "markdown",
      "metadata": {
        "id": "IjJkMeXG_xGS"
      },
      "source": [
        "**Coronavirus (COVID-19) Visualization & Prediction**\n",
        "\n",
        "Coronavirus disease 2019 (**COVID-19**) is a contagious disease caused by severe acute respiratory syndrome coronavirus 2 (SARS-CoV-2). The first known case was identified in Wuhan, China, in December 2019. The disease has since spread worldwide, leading to an ongoing pandemic.\n",
        "\n",
        "Symptoms of COVID-19 are variable, but often include fever, cough, headache, fatigue, breathing difficulties, and loss of smell and taste. Symptoms may begin one to fourteen days after exposure to the virus. At least a third of people who are infected do not develop noticeable symptoms.\n",
        "\n",
        "This project aims to design and develop an AI-powered system to predict COVID-19 in X-rays in order to assist doctors in thier decision making.\n"
      ]
    }
  ]
}